{
 "cells": [
  {
   "cell_type": "markdown",
   "id": "d7776513",
   "metadata": {},
   "source": [
    "# Ensemble Learning and Random Forests\n",
    "\n",
    "*wisdom of the crowd* - an answer to a complex question, aggregated over thousands of random people, in many cases is better than an expert's answer\n",
    "\n",
    "This is the core idea behind *ensemble learning*. In this method of prediction, we aggregate the predictions of a group of predictors (like classifiers or regressors). The group of predictors is called an *ensemble*.\n",
    "\n",
    "Consider a single Decision Tree Classifier. If we train a group of singular Decision Trees, each on a random subset of a larger training set, we are performing ensemble learning. To make a prediction then, we would ask each Decision Tree to make a prediction, then return the class that gets the most votes among all the Decision Trees. This ensemble of Decision Trees is called a *Random Forest*.\n",
    "\n",
    "Popular ensemble methods include: *bagging*, *boosting*, and *stacking*.\n",
    "\n",
    "## Voting Classifiers\n",
    "\n"
   ]
  }
 ],
 "metadata": {
  "kernelspec": {
   "display_name": "Python 3 (ipykernel)",
   "language": "python",
   "name": "python3"
  },
  "language_info": {
   "codemirror_mode": {
    "name": "ipython",
    "version": 3
   },
   "file_extension": ".py",
   "mimetype": "text/x-python",
   "name": "python",
   "nbconvert_exporter": "python",
   "pygments_lexer": "ipython3",
   "version": "3.9.10"
  }
 },
 "nbformat": 4,
 "nbformat_minor": 5
}
