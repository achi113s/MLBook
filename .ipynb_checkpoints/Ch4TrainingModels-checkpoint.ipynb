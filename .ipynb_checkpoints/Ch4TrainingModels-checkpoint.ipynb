{
 "cells": [
  {
   "cell_type": "markdown",
   "id": "385401d9",
   "metadata": {},
   "source": [
    "# Chapter 4 Training Models\n",
    "\n",
    "## Linear Regression\n",
    "\n",
    "A linear model makes a prediction by simply computing a weighted sum of the input features, plus a constant called the *bias term*: \n",
    "\n",
    "$$ \\hat{y}=\\theta_0 + \\theta_1 x_1 + \\theta_2 x_2 + ... + \\theta_n x_n $$"
   ]
  },
  {
   "cell_type": "markdown",
   "id": "27e347f2",
   "metadata": {},
   "source": [
    "In this equation: $\\hat{y}$ is the predicted value, $n$ is the number of features, $x_i$ is the i-th feature value, and $\\theta_j$ is the j-th model parameter (including the bias term $\\theta_0$).\n",
    "\n",
    "In vectorized form:\n",
    "$$ \\hat{y} = h_{\\mathbf{\\theta}}(\\mathbf{x})=\\mathbf{\\theta}\\cdot\\mathbf{x} $$\n",
    "\n",
    "If $\\mathbf{\\theta}$ and $\\mathbf{x}$ are column vectors, then the prediction is $\\hat{y}=\\mathbf{\\theta}^{\\text{T}}\\mathbf{x}$, where $\\mathbf{\\theta}^{\\text{T}}$ is the transpose of $\\mathbf{\\theta}$ and $\\mathbf{\\theta}^{\\text{T}}\\mathbf{x}$ is the matrix multiplication of the two vectors."
   ]
  },
  {
   "cell_type": "markdown",
   "id": "ecb89b2f",
   "metadata": {},
   "source": [
    "In order to train a linear regression model we first need a measure of how well the model fits the training data. The most common performance measure of a regression model is the Root Mean Square Error (RMSE). We need to find the value of $\\mathbf{\\theta}$ that minimizes the RMSE. Usually it's simpler to minimize the mean squared error (MSE) rather than the RMSE.\n",
    "\n",
    "The MSE of a linear regression hypothesis $h_{\\mathbf{\\theta}}$ on a training set $\\mathbf{X}$ is:\n",
    "\n",
    "$$ MSE(\\mathbf{X}, h_{\\mathbf{\\theta}})=\\frac{1}{m}\\sum^{m}_{i=1}\\big(\\mathbf{\\theta}^{\\text{T}}\\mathbf{x}^{(i)}-y^{(i)}\\big)^{2}$$\n",
    "\n",
    "To find the value of $\\mathbf{\\theta}$ that minimizes the cost function, there is a analytical solution known as the *Normal Equation*.\n",
    "\n",
    "$$ \\hat{\\mathbf{\\theta}}=(\\mathbf{X}^{\\text{T}}\\mathbf{X})^{-1}\\mathbf{X}^{\\text{T}}\\mathbf{y} $$\n",
    "\n",
    "There are also iterative methods which we will look at later. \n",
    "\n",
    "Let's use the normal equation to perform regression on some test data in Python:"
   ]
  },
  {
   "cell_type": "code",
   "execution_count": 1,
   "id": "5df7e9d5",
   "metadata": {},
   "outputs": [
    {
     "data": {
      "text/plain": [
       "(0.0, 2.0, 0.0, 15.0)"
      ]
     },
     "execution_count": 1,
     "metadata": {},
     "output_type": "execute_result"
    },
    {
     "data": {
      "image/png": "[encoded data removed]",
      "text/plain": [
       "<Figure size 432x288 with 1 Axes>"
      ]
     },
     "metadata": {
      "needs_background": "light"
     },
     "output_type": "display_data"
    }
   ],
   "source": [
    "import numpy as np\n",
    "import matplotlib.pyplot as plt \n",
    "\n",
    "X = 2 * np.random.rand(100, 1)\n",
    "y = 4 + 3 * X + np.random.randn(100, 1)\n",
    "\n",
    "plt.plot(X, y, 'b.')\n",
    "plt.axis([0, 2, 0, 15])"
   ]
  },
  {
   "cell_type": "code",
   "execution_count": 2,
   "id": "30d62b44",
   "metadata": {},
   "outputs": [
    {
     "name": "stdout",
     "output_type": "stream",
     "text": [
      "[[1.         0.03332384]\n",
      " [1.         1.88330198]\n",
      " [1.         1.24287979]\n",
      " [1.         0.94128977]\n",
      " [1.         0.27519108]]\n"
     ]
    }
   ],
   "source": [
    "X_b = np.c_[np.ones((100, 1)), X]  # adds x0 = 1 to each set of x features\n",
    "print(X_b[:5])"
   ]
  },
  {
   "cell_type": "code",
   "execution_count": 3,
   "id": "ea2b162d",
   "metadata": {},
   "outputs": [
    {
     "data": {
      "text/plain": [
       "array([[4.05582975],\n",
       "       [2.95952331]])"
      ]
     },
     "execution_count": 3,
     "metadata": {},
     "output_type": "execute_result"
    }
   ],
   "source": [
    "theta_best = np.linalg.inv(X_b.T.dot(X_b)).dot(X_b.T).dot(y)\n",
    "theta_best"
   ]
  },
  {
   "cell_type": "markdown",
   "id": "e698a565",
   "metadata": {},
   "source": [
    "Note that function that we just used to generate the data is $y=4+3x_{1}+\\text{Gaussian noise}$. Now we can make predictions using $\\hat{\\mathbf{\\theta}}$:"
   ]
  },
  {
   "cell_type": "code",
   "execution_count": 4,
   "id": "f7862a8d",
   "metadata": {},
   "outputs": [
    {
     "data": {
      "text/plain": [
       "array([[4.05582975],\n",
       "       [9.97487638]])"
      ]
     },
     "execution_count": 4,
     "metadata": {},
     "output_type": "execute_result"
    }
   ],
   "source": [
    "X_new = np.array([[0], [2]])\n",
    "X_new_b = np.c_[np.ones((2, 1)), X_new]\n",
    "y_predict = X_new_b.dot(theta_best)\n",
    "y_predict"
   ]
  },
  {
   "cell_type": "code",
   "execution_count": 5,
   "id": "22cd32d7",
   "metadata": {},
   "outputs": [
    {
     "data": {
      "image/png": "[encoded data removed]",
      "text/plain": [
       "<Figure size 432x288 with 1 Axes>"
      ]
     },
     "metadata": {
      "needs_background": "light"
     },
     "output_type": "display_data"
    }
   ],
   "source": [
    "plt.plot(X_new, y_predict, 'r-')\n",
    "plt.plot(X, y, 'b.')\n",
    "plt.axis([0, 2, 0, 15])\n",
    "plt.show()"
   ]
  },
  {
   "cell_type": "markdown",
   "id": "f750780c",
   "metadata": {},
   "source": [
    "We can also perform linear regression with Scikit-Learn:"
   ]
  },
  {
   "cell_type": "code",
   "execution_count": 6,
   "id": "3f46ba5f",
   "metadata": {},
   "outputs": [
    {
     "data": {
      "text/plain": [
       "(array([4.05582975]), array([[2.95952331]]))"
      ]
     },
     "execution_count": 6,
     "metadata": {},
     "output_type": "execute_result"
    }
   ],
   "source": [
    "from sklearn.linear_model import LinearRegression\n",
    "lin_reg = LinearRegression()\n",
    "lin_reg.fit(X, y)\n",
    "lin_reg.intercept_, lin_reg.coef_"
   ]
  },
  {
   "cell_type": "code",
   "execution_count": 7,
   "id": "e860bc1c",
   "metadata": {},
   "outputs": [
    {
     "data": {
      "text/plain": [
       "array([[4.05582975],\n",
       "       [9.97487638]])"
      ]
     },
     "execution_count": 7,
     "metadata": {},
     "output_type": "execute_result"
    }
   ],
   "source": [
    "lin_reg.predict(X_new)"
   ]
  },
  {
   "cell_type": "markdown",
   "id": "1d29cccd",
   "metadata": {},
   "source": [
    "The `LinearRegression` class is actually based on the `scipy.linalg.lstsq()` function. We can call that directly too:"
   ]
  },
  {
   "cell_type": "code",
   "execution_count": 8,
   "id": "68831127",
   "metadata": {},
   "outputs": [
    {
     "data": {
      "text/plain": [
       "array([[4.05582975],\n",
       "       [2.95952331]])"
      ]
     },
     "execution_count": 8,
     "metadata": {},
     "output_type": "execute_result"
    }
   ],
   "source": [
    "theta_best_svd, residuals, rank, s = np.linalg.lstsq(X_b, y, rcond=1e-6)\n",
    "theta_best_svd"
   ]
  },
  {
   "cell_type": "markdown",
   "id": "ebc21901",
   "metadata": {},
   "source": [
    "The `scipy.linalg.lstsq()` function computes $\\hat{\\mathbf{\\theta}}=\\mathbf{X}^{+}\\mathbf{y}$, where $\\mathbf{X}^{+}$ is the *pseudoinverse* of $\\mathbf{X}$. We can use `np.linalg.pinv()` to compute the pseudoinverse directly:"
   ]
  },
  {
   "cell_type": "code",
   "execution_count": 9,
   "id": "1d644f2d",
   "metadata": {},
   "outputs": [
    {
     "data": {
      "text/plain": [
       "array([[4.05582975],\n",
       "       [2.95952331]])"
      ]
     },
     "execution_count": 9,
     "metadata": {},
     "output_type": "execute_result"
    }
   ],
   "source": [
    "np.linalg.pinv(X_b).dot(y)"
   ]
  },
  {
   "cell_type": "markdown",
   "id": "ec21a121",
   "metadata": {},
   "source": [
    "The pseudoinverse is computed using a technique called *Singular Value Decomposition (SVD)*."
   ]
  },
  {
   "cell_type": "markdown",
   "id": "0a40d0a5",
   "metadata": {},
   "source": [
    "## Computational Complexity\n",
    "\n",
    "Clearly, the normal equation computes the inverse of $\\mathbf{X}^{\\text{T}}\\mathbf{X}$, but this is an $(n+1)\\times (n+1)$ matrix (where $n$ is the number of features)."
   ]
  },
  {
   "cell_type": "markdown",
   "id": "ab06479e",
   "metadata": {},
   "source": [
    "The computational complexity of inverting such a matrix is typically $O(n^{2.4})$ to $O(n^{3})$. On the other hand, the *Singular Value Decomposition (SVD)* approach used by Scikit-Learn's `LinearRegression` class does it with about $O(n^2)$ complexity. \n",
    "\n",
    ">While both the Normal Equation and SVD approach get very slow with increasing number of features, both are linear with regard to the number of instances in the training set (they are $O(m)$), so they can handle large training sets efficiently, provided they can fit in memory."
   ]
  },
  {
   "cell_type": "markdown",
   "id": "dcc3fc4e",
   "metadata": {},
   "source": [
    "Making *predictions* with a trained model, however, is very fast (almost linear).\n",
    "\n",
    "When there are a large number of features or too many training instances to fit in memory we have to get creative in order to reduce computational complexity and the training time."
   ]
  },
  {
   "cell_type": "markdown",
   "id": "e2532814",
   "metadata": {},
   "source": [
    "## Gradient Descent\n",
    "\n",
    "Gradient descent is an iterative optimization algorithm that works by tweaking parameters and simultaneously minimizing a cost function."
   ]
  },
  {
   "cell_type": "markdown",
   "id": "c86065d8",
   "metadata": {},
   "source": [
    "How does gradient descent work?: It measures the local gradient of the error function (Calculus vibes) with respect to the parameter vector $\\mathbf{\\theta}$ and changes the parameters in the direction of the descending gradient. Once the gradient reaches zero, the function is minimized.\n",
    "\n",
    "Usually, $\\mathbf{\\theta}$ is populated with random values (*random initialization*). The parameters are tweaked slightly with the goal of decreasing the cost function (MSE, for example) until *convergence*.\n",
    "\n",
    "The size of the tweaks to the parameters $\\mathbf{\\theta}$ is deteremined by the *learning rate* hyperparameter. Getting the right learning rate is a balancing act: too small and the algortihm will take a long time to converge, and too large and the algorithm may diverge."
   ]
  },
  {
   "cell_type": "markdown",
   "id": "2f61ab01",
   "metadata": {},
   "source": [
    "#### Not all cost functions are simple to minimize. \n",
    "\n",
    "They may have local minima which make gradient descent's job a lot harder. The algorithm may converge to a local minimum rather than the global one. Fortunately MSE for a LINEAR REGRESSION model is a *convex function*, meaning that the line segment between any two points on the curve never crosses the curve. This implies that there is only one minimum, and it's a global one. MSE is also a continuous function with a slope that does not change abruptly.\n",
    "\n",
    "All of these facts lead to one thing: gradient descent is guaranteed to approach arbitratiliy close to the global minimum!\n",
    "\n",
    "When using gradient descent, all features should have a similar scale or it will take longer to converge. The `StandardScaler` class in Scikit-Learn will do this for us.\n",
    "\n",
    "Training a model with gradient descent means searching for a combination of parameters within the parameter space that minimizes a cost function."
   ]
  },
  {
   "cell_type": "markdown",
   "id": "cd0e2c75",
   "metadata": {},
   "source": [
    "### Batch Gradient Descent"
   ]
  },
  {
   "cell_type": "markdown",
   "id": "6c718031",
   "metadata": {},
   "source": [
    "To implement gradient descent we compute the gradient of the cost function with respect to *each* model parameter $\\theta_j$:\n",
    "\n",
    "$$ \\frac{\\partial}{\\partial \\theta_j} MSE(\\mathbf{\\theta})=\\frac{2}{m}\\sum^m_{i=1}\\Big(\\mathbf{\\theta}^T\\mathbf{x}^{(i)}-y^{(i)}\\Big)x_{j}^{(i)}$$\n",
    "\n",
    "Instead of computing this partial derivative for each and every model parameter, we can compute the gradient vector instead:\n",
    "\n",
    "$$ \\nabla_{\\theta}MSE(\\mathbf{\\theta})= \\begin{pmatrix}\n",
    "\\frac{\\partial}{\\partial \\theta_0} MSE(\\mathbf{\\theta})\\\\\n",
    "\\frac{\\partial}{\\partial \\theta_1} MSE(\\mathbf{\\theta})\\\\\n",
    "\\vdots\\\\\n",
    "\\frac{\\partial}{\\partial \\theta_n} MSE(\\mathbf{\\theta})\n",
    "\\end{pmatrix} = \\frac{2}{m}\\mathbf{X}^{T}(\\mathbf{X}\\mathbf{\\theta}-\\mathbf{y})$$\n",
    "\n",
    ">Notice that this formula involves calculations over the entire training set $\\mathbf{X}$ at each gradient descent step. Because the whole batch of training data is used at every step, this algorithm is very slow on large training sets. However, gradient descent scales well iwth the number of features; training a linear regression model when there are hundreds of thousands of features is still much faster using gradient descent than using the normal equation of singular value decomposition!"
   ]
  },
  {
   "cell_type": "markdown",
   "id": "55a97378",
   "metadata": {},
   "source": [
    "The gradient vector in its current form points in the direction of greatest increase, so to go downhill we just subtract it from $\\mathbf{\\theta}$. Remember that the gradient vector is just a slope though, we need to multiply it by some constant to figure out how big of a step we will take! This is where we introduce the learning rate $\\eta$. We multiply $\\eta$ with the gradient vector to determine the size of the downhill step and then subtract that from $\\theta$, giving us a $\\theta$ that is slightly better than the previous:\n",
    "\n",
    "$$ \\mathbf\\theta^{\\text{next step}}=\\mathbf{\\theta}-\\eta\\nabla_{\\theta}MSE(\\mathbf{\\theta}) $$"
   ]
  },
  {
   "cell_type": "markdown",
   "id": "64db1218",
   "metadata": {},
   "source": [
    "We can implement gradient descent really quickly in Python:"
   ]
  },
  {
   "cell_type": "code",
   "execution_count": 10,
   "id": "daf785f6",
   "metadata": {},
   "outputs": [
    {
     "data": {
      "text/plain": [
       "array([[4.05582975],\n",
       "       [2.95952331]])"
      ]
     },
     "execution_count": 10,
     "metadata": {},
     "output_type": "execute_result"
    }
   ],
   "source": [
    "eta = 0.1 # learning rate\n",
    "n_iterations = 1000\n",
    "m = 100\n",
    "\n",
    "theta = np.random.randn(2, 1)  \n",
    "# random initialization of theta, i.e. the parameter space which includes the \n",
    "# slope and intercept of the line we previously looked at\n",
    "\n",
    "for i in range(n_iterations):\n",
    "    gradient = 2/m * X_b.T.dot(X_b.dot(theta)-y)\n",
    "    theta = theta - eta*gradient\n",
    "\n",
    "theta"
   ]
  },
  {
   "cell_type": "markdown",
   "id": "3fe787e7",
   "metadata": {},
   "source": [
    "This is exactly what the normal equation found!"
   ]
  },
  {
   "cell_type": "markdown",
   "id": "07dc2a12",
   "metadata": {},
   "source": [
    "## Stochastic Gradient Descent"
   ]
  }
 ],
 "metadata": {
  "kernelspec": {
   "display_name": "Python 3 (ipykernel)",
   "language": "python",
   "name": "python3"
  },
  "language_info": {
   "codemirror_mode": {
    "name": "ipython",
    "version": 3
   },
   "file_extension": ".py",
   "mimetype": "text/x-python",
   "name": "python",
   "nbconvert_exporter": "python",
   "pygments_lexer": "ipython3",
   "version": "3.9.10"
  }
 },
 "nbformat": 4,
 "nbformat_minor": 5
}
